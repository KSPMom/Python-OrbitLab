{
  "cells": [
    {
      "cell_type": "markdown",
      "id": "b468cf69",
      "metadata": {},
      "source": [
        "# Orbit Lab\n",
        "\n"
      ]
    },
    {
      "cell_type": "markdown",
      "id": "9e5d5c0f",
      "metadata": {},
      "source": [
        "In the Orbit Lab, we will build a simulation of planets orbiting a sun. As we\n",
        "go, this simulation will get progressively more accurate and will eventually\n",
        "include moons, asteroids and spacecraft. \n",
        "\n",
        "To prepare for this class, you should complete the first three modules in the\n",
        "[Python Games](https://github.com/league-curriculum/Python-Games) class, through\n",
        "`Module 03, Vectors`. This will prepare you with a basic understanding of both\n",
        "the physics required to understand orbits and the details of programming\n",
        "graphics with PyGame. \n"
      ]
    },
    {
      "cell_type": "markdown",
      "id": "afcd4f1d",
      "metadata": {},
      "source": [
        "# Stage 1\n",
        "\n",
        "In the first stage of the simulation, we will build a basic simuation structure for one sun and one or more planets. \n",
        "\n",
        "1) Start with the program you completed in Python Games,\n",
        "   `03_Vectors/04_gravity_bounce_vec.py`. Copy that program into this directory\n",
        "   as `stage1.py`\n",
        "2) Change your `Player` class to `CelestialBody` and remove any code replated to\n",
        "   jumping and bouncing off the edges of the screen. You can also create a new\n",
        "   `CelestialBody` class, since you will be deleting most of the code from\n",
        "   Player. \n",
        "3) Create derived classes for `Sun` and `Planet`. \n",
        "4) In `CelestialBody`, create a method that calculates the force acting on the\n",
        "   body due to another `CelestialBody`\n",
        "5) Setup your system with one Sun and one planet, give the planet an initial velocity\n",
        "\n",
        "\n",
        "For your first version, we can use the reference frame of the sun, which means\n",
        "that you don't need to update the position of the sun, not calculate the forces\n",
        "acting on it, but you definitely do nned to calculate the sun's force acting on\n",
        "the planet. \n",
        "\n",
        "\n",
        "# Tips\n",
        "\n",
        "* Be sure that all of your equations are physically correct and have proper\n",
        "  (implied)  units. You must have a delta time setting for the time step. \n",
        "* Figure out a reasonable conversion for real physical distance to pixels, and\n",
        "  create a conversion function so you can define your values in normal MKS\n",
        "  units. For instance, you might assign 1 AU to 500 pixels, so the Earths orbit\n",
        "  would be 1000 pixels wide. \n",
        "* Calculate the initial velocity of your planets using the orbial velocity\n",
        "  equation. You should be able to intiialize your planet to a distance from the\n",
        "  sun and have it's orbital velocity automatically calculated to produce a\n",
        "  near-circular orbit. \n"
      ]
    },
    {
      "cell_type": "code",
      "execution_count": 3,
      "id": "db28848f",
      "metadata": {},
      "outputs": [],
      "source": [
        "# Here is an example of your Celestial Body Class, to get you started. \n",
        "\n",
        "class Game:\n",
        "    pass\n",
        "\n",
        "class CelestialBody:\n",
        "    \"\"\"Base Class for any celestial body in the game, such as planets or moons.\"\"\"\n",
        "\n",
        "    def __init__(self, game: Game):\n",
        "        self.game = game\n",
        "        settings = self.game.settings\n",
        "\n",
        "        # Set your initial position, velocity, and acceleration\n",
        "\n",
        "\n",
        "    def g_force(self, other: \"CelestialBody\"):\n",
        "        \"\"\"Calculate the gravitational force acting on this body due to another body.\"\"\"\n",
        "\n",
        "        pass\n",
        "\n",
        "    def update(self):\n",
        "        \"\"\"Update the planets position, velocity and acceleration\"\"\"\n",
        "\n",
        "        pass\n",
        "\n",
        "    def draw(self, screen):\n",
        "        \"\"\"Draw the planet on the screen\"\"\"\n",
        "\n",
        "        pass\n"
      ]
    },
    {
      "cell_type": "markdown",
      "id": "36d71b1c",
      "metadata": {},
      "source": []
    }
  ],
  "metadata": {
    "kernelspec": {
      "display_name": "Python 3",
      "language": "python",
      "name": "python3"
    },
    "language_info": {
      "codemirror_mode": {
        "name": "ipython",
        "version": 3
      },
      "file_extension": ".py",
      "mimetype": "text/x-python",
      "name": "python",
      "nbconvert_exporter": "python",
      "pygments_lexer": "ipython3",
      "version": "3.12.10"
    },
    "syllabus": {
      "uid": "IUh3u37k"
    }
  },
  "nbformat": 4,
  "nbformat_minor": 5
}

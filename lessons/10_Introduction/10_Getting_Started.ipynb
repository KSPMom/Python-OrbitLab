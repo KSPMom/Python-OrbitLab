{
  "cells": [
    {
      "cell_type": "markdown",
      "id": "b468cf69",
      "metadata": {},
      "source": [
        "# Orbit Lab\n",
        "\n"
      ]
    },
    {
      "cell_type": "markdown",
      "id": "9e5d5c0f",
      "metadata": {},
      "source": []
    }
  ],
  "metadata": {
    "kernelspec": {
      "display_name": "Python 3",
      "language": "python",
      "name": "python3"
    },
    "language_info": {
      "name": "python",
      "version": "3.12.1"
    },
    "syllabus": {
      "uid": "IUh3u37k"
    }
  },
  "nbformat": 4,
  "nbformat_minor": 5
}

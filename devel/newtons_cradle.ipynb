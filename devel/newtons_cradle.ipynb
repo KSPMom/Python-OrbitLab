{
 "cells": [
  {
   "cell_type": "code",
   "execution_count": 6,
   "metadata": {
    "collapsed": false
   },
   "outputs": [],
   "source": [
    "#%matplotlib inline\n",
    "import matplotlib.pyplot as plt\n",
    "from matplotlib import animation\n",
    "from IPython.display import HTML"
   ]
  },
  {
   "cell_type": "code",
   "execution_count": 7,
   "metadata": {
    "collapsed": false
   },
   "outputs": [],
   "source": [
    "import pymunk\n",
    "from pymunk.vec2d import Vec2d\n",
    "import pymunk.matplotlib_util"
   ]
  },
  {
   "cell_type": "code",
   "execution_count": 8,
   "metadata": {
    "collapsed": true
   },
   "outputs": [],
   "source": [
    "def setup_space():\n",
    "    space = pymunk.Space()\n",
    "    space.gravity = 0,-9820\n",
    "    space.damping = 0.99\n",
    "    return space\n"
   ]
  },
  {
   "cell_type": "code",
   "execution_count": 9,
   "metadata": {
    "collapsed": true
   },
   "outputs": [],
   "source": [
    "def setup_balls(space):\n",
    "    width = 600\n",
    "    height = 600\n",
    "    for x in range(-100,150,50):\n",
    "        x += width / 2\n",
    "        offset_y = height/2\n",
    "        mass = 10\n",
    "        radius = 25\n",
    "        moment = pymunk.moment_for_circle(mass, 0, radius, (0,0))\n",
    "        body = pymunk.Body(mass, moment)\n",
    "        body.position = x, -125+offset_y\n",
    "        body.start_position = Vec2d(*body.position)\n",
    "        shape = pymunk.Circle(body, radius)\n",
    "        shape.elasticity = 0.9999999\n",
    "        space.add(body, shape)\n",
    "        pj = pymunk.PinJoint(space.static_body, body, (x, 125+offset_y), (0,0))\n",
    "        space.add(pj)"
   ]
  },
  {
   "cell_type": "markdown",
   "metadata": {},
   "source": [
    "We reuse the debug drawing code from pymunk.matplotlib_util. Currently this is not optimal since it doesnt reuse the artists added to the axes, instead we have to clear the axes each frame and redraw it which is quite expensive. Hopefully a future version of pymunk will support a better way to do it. \n",
    "\n",
    "For now if you want to draw a more complicated scene I recommend that you use pymunk.matplotlib_util as inspiration but write the drawing code yourself to better optimize the animation."
   ]
  },
  {
   "cell_type": "code",
   "execution_count": 10,
   "metadata": {
    "collapsed": false,
    "scrolled": false
   },
   "outputs": [
    {
     "name": "stderr",
     "output_type": "stream",
     "text": [
      "/var/folders/ns/_96n1s294bj9970ktj_ms9th0000gn/T/ipykernel_95526/124386559.py:8: DeprecationWarning: matplotlib_util.DrawOptions is deprecated. If you find it useful, please open an issue on the pymunk issue tracker at https://github.com/viblo/pymunk/issues Otherwise this is likely to be completely removed in a future Pymunk version.\n",
      "  o = pymunk.matplotlib_util.DrawOptions(ax)\n"
     ]
    },
    {
     "data": {
      "text/html": [
       "<video width=\"640\" height=\"480\" controls autoplay loop>\n",
       "  <source type=\"video/mp4\" src=\"data:video/mp4;base64,AAAAIGZ0eXBNNFYgAAACAE00ViBpc29taXNvMmF2YzEAAAAIZnJlZQAAFbdtZGF0AAACrwYF//+r\n",
       "3EXpvebZSLeWLNgg2SPu73gyNjQgLSBjb3JlIDE2NCByMzEwOCAzMWUxOWY5IC0gSC4yNjQvTVBF\n",
       "Ry00IEFWQyBjb2RlYyAtIENvcHlsZWZ0IDIwMDMtMjAyMyAtIGh0dHA6Ly93d3cudmlkZW9sYW4u\n",
       "b3JnL3gyNjQuaHRtbCAtIG9wdGlvbnM6IGNhYmFjPTEgcmVmPTMgZGVibG9jaz0xOjA6MCBhbmFs\n",
       "eXNlPTB4MzoweDExMyBtZT1oZXggc3VibWU9NyBwc3k9MSBwc3lfcmQ9MS4wMDowLjAwIG1peGVk\n",
       "X3JlZj0xIG1lX3JhbmdlPTE2IGNocm9tYV9tZT0xIHRyZWxsaXM9MSA4eDhkY3Q9MSBjcW09MCBk\n",
       "ZWFkem9uZT0yMSwxMSBmYXN0X3Bza2lwPTEgY2hyb21hX3FwX29mZnNldD0tMiB0aHJlYWRzPTE1\n",
       "IGxvb2thaGVhZF90aHJlYWRzPTIgc2xpY2VkX3RocmVhZHM9MCBucj0wIGRlY2ltYXRlPTEgaW50\n",
       "ZXJsYWNlZD0wIGJsdXJheV9jb21wYXQ9MCBjb25zdHJhaW5lZF9pbnRyYT0wIGJmcmFtZXM9MyBi\n",
       "X3B5cmFtaWQ9MiBiX2FkYXB0PTEgYl9iaWFzPTAgZGlyZWN0PTEgd2VpZ2h0Yj0xIG9wZW5fZ29w\n",
       "PTAgd2VpZ2h0cD0yIGtleWludD0yNTAga2V5aW50X21pbj0yNSBzY2VuZWN1dD00MCBpbnRyYV9y\n",
       "ZWZyZXNoPTAgcmNfbG9va2FoZWFkPTQwIHJjPWNyZiBtYnRyZWU9MSBjcmY9MjMuMCBxY29tcD0w\n",
       "LjYwIHFwbWluPTAgcXBtYXg9NjkgcXBzdGVwPTQgaXBfcmF0aW89MS40MCBhcT0xOjEuMDAAgAAA\n",
       "CLNliIQAM//+9uy+BTYUyFCXESzF2kpwPiqkgIB3NMAAAAMAAAMAAASEU/oqJ1bF1HgAAAMCWgCT\n",
       "YpHwkhYb+IAqvbVGmFgJ2RTWJFpGU6aUZT8cIjhYwg0kyfJ0/kdDTwhknPMjnAQFS8Q9JTfLk9N9\n",
       "oYyaIzQ4SEvBj8mbUZDSyOR5rA2RG6K7kbp5xGZqOJXXReMsjxv/FwCMOUIqxwNtq0IXl43MEi/3\n",
       "yCVyEMvUXBGkpbTDtRO5fJkOdZtt3xx/sYXCRCf46L8iy9803HxaQFN6geRM6uOD97qvGFlA/9eH\n",
       "5kDH4/arIi4ZYAQ+b0gq2HOAAAADAlZGojnID0VXsV7llM92GxItUmIpFmEwIvoSOEm/HaQwe/Xq\n",
       "vkCfT+Dr51qKi8jkDF7zU4135ICdgakP+RbokNrjCBi3ALEVpHK+sbBtTmsmPsJlWzVB+SVHcbXx\n",
       "uCvjsabGtF7BpAVRuRyi3cKE91/mR/ZoGEZLHO8QgQ6FAHX8prMF7ubUAiKQeGypfaNsAktnYiP+\n",
       "S0vvZ+lByS4QDiIyFCQ2Lr88eXxAFK1FUl0NTD09OlqHytkpnUuz24wk58XLJI9HYSbsWNQl4Q1G\n",
       "B0gphFUOVaRuuYuANgt1dEAVZDw4jvDXknz/PhxPFHBnXH94LGVvdAgJKa/Q2ZIfeGVVell4Bos6\n",
       "gDNeUuXrJbEt6r93aGhLZ61WrJ+pDRSczs3G6JQChrrRElzQLcenKfTzRsoir5msyUtJolvdq6RB\n",
       "qO5uLKAjcEHXlNZKIAWi16ySHPYLNQhEuj27R7aKLrTLd9WsYXwNmID5opLBqrhmTZiDTFY8PSUs\n",
       "pQHL/0blylESTnP0Xn0Va+qAoci5IAnTREQd4kavsQOu+7BPdjiseyppuym9ZdLPKxGK0lnLoMbg\n",
       "M+W9yzgU0Juqt+0yJsQqULMzy7IN8YtSy8+WyxuVAsty15giQBUOjFPeXt1NjCc5Mnja/bdDrGIF\n",
       "2BUuBydvQAiJ8ml475GJI8kAoosIGrbHsvI8C9jcHKc/MDb+Sv45kd0FNppc+utdDLPPeFL4LoGw\n",
       "dXthDHlltlRMAaWBpxGw5+RFFL0HXx+gzBUdHtt2G4AARm8N7jzXAAADAAADAAHMgCyn6VsvWrOo\n",
       "Csipf8V9Ld+hj466+tGv0ow0uAzSZMVId4hDMR34XVGCZxNzVLHjQLztG/UAAZ4AP8HocAbyY7jF\n",
       "qNpd9elq25epd16W21CEKDElBSiAOBWDVf2L029Sz6lL77pfnOBOQyLkP1gwofJNM3gtGfM7N35l\n",
       "4jWEy0ZTg6g9V7Ue64A0Aq7GPlwAtsM6lH0dd4qJPLclAhZqj7aqAA1OIAAAAwAB5GgBu1OCwdlt\n",
       "5sY6Lk5G8zD3DkqTLQtA5Ex3R2Tm75sm7T2Gv7ZX6HqEpSoWwanBjGptDTznvVz6aEyhbSJV53lo\n",
       "UiN0jmqihlHWBNOLElQ/aCcw5OvfkcVTmXK7sFl2Cdwsmxl8AoBQbMoMCSdZa0nxuAInFS7lND/a\n",
       "+kvSwblsA4MojnCrWm4W1nDSlmy9lxS599PNntfDMUT7hsa8H5zfb37vf3cvzuwcuTKrvyMdWO+5\n",
       "rj6iVNzrTTSqlO3hOa/yqH/fAG6hByNwAoemWepWqiXyONJP6+uN/m/yNCIEWj0JILEoNRPbj2U7\n",
       "X9OrNs1aWuyaKPZoLVFjOmUlB0wKHn6Xnu0wEGiqT4B2Zog0uWp0pbNzi6DTCW33g8PUeVffZkTE\n",
       "Opk+HoGo6b/BzVHd4SkNq4kRn9tE3F1jnE3aBoScP0+RIkqMHybhw6XSsRmBEpX2JPR2YrW4UJbQ\n",
       "o1INUod/ym+QUtyPXF2xQhx+oOymMjBldIqNL39dXsgKlcqCJyS6VTWzf5bTly/ApSAwgh/Mt4LU\n",
       "il2N120MzK9anotcBlQ2EtSlcGewdrQFCNyIZDDMpLdOcXumKh8p1znSszml/JifSD91/4eOPFpv\n",
       "rwaIo8G+kwU8bd7ZqgELbj6Wu2yRQUoxTeEY4hmfz9e8lVvSYq4iKtOyz+FZdpV5lS60wP6dPaB0\n",
       "YTbZddxKdxXzPomW8qfnLHOKxYO2yQc6lQ/zR11WELf0J2CF252pst2Qd8Pij3KYIGvGsi/96Ygr\n",
       "fG+Mp8kXECgsNOHXx3h5avAns7QIUVAnE8sGip6455uVl4y9bmj/qQkcAeikYLXT2NvobYVHfXw4\n",
       "Q/RbNjTsCmXm7/Q4PpP8ogbx7WAF8IcSnn3DGnyKadTcGHFYGSAJ7AjvPTo38mtN9TLhNm+9U5Dn\n",
       "xHilDmB8uGHs82R7pPHth777cF3MmpaUXNhYYNk8QQcuwiH+n774V0zvUbf9pA9OTufEqJg2BFY0\n",
       "6yR1hq1LS0AiUuHvFRHD53qnUNRRltjxzPPCT3a1NNAwSsKt6G2iigPaBa7VeRXBGW7Ia8qtEyC2\n",
       "ONF52HPoLEyG0GiZsY7DUIYJDSlZYugWbbVNX408WOosZbhqOsjph9anQILpf4+RssXqWXthDGY2\n",
       "nFfKFLrX8+6OlbsyTdpxraxcNSqDDPlcCb5C0EG2dRrWMhSEZhcM2TDlgzsVJdGjrTzJJsMRQnWt\n",
       "yord5i1N4bh/PAN+kSEBrP0ss3Ibs4wFM8U7IOzsWwx7jURKaS7cX5373RoG96Unb7LauNOA11e4\n",
       "661ceM+xTw9zuVEtjmKh0osnhlaTUJkrxdwfE1Ztcv33TMNvmVTJ6kO43mKJCzfizoBh4OCIbgEe\n",
       "VASFZIiAckpTnCde/CimsahujGqaGOyBUAvzbwALP0oXhOD7IIARkHv6jbczJhLDYY3bp+FcWN4J\n",
       "u4mYDzpk9y+qhdvIpzZWurq/mm3Vu711xvH4/0Q4pHhqst4eBV03PNmMczeQODfv11cbK2t2WfnU\n",
       "nQn4w0WFM+Oirmc8Z+PHDz0jn3AoeZJJVAdwYoJ2cS9HinpgPEMMP35GCB6wAAAoOMoq5UJMtI+X\n",
       "GUAAAB8xAAAAP0GaJGxDP/6eEABnfg8E6ABpVwkgARG8LHaJ7GeSOdaeVEGaZWpdwlDAA16P4mRW\n",
       "oAKhU1xb/EYzYy/rzj0xQAAAABpBnkJ4hH8AILAqYAIMuoO5qOAbPlcZgPsDwQAAABQBnmF0R/8A\n",
       "NLhOkAISfmI5BILj7wAAABUBnmNqR/8AAAMABa806gP4zE8PLcEAAAAcQZpoSahBaJlMCGf//p4Q\n",
       "AAADAAADABavVlSOgQAAABhBnoZFESwj/wAAAwADi7jpgKEXHvLjISEAAAAVAZ6ldEf/AAADAAWs\n",
       "W9IFB7mU2XbBAAAAEwGep2pH/wAAAwAFrzTqAYiFmqAAAAAYQZqsSahBbJlMCGf//p4QAAADAAAD\n",
       "AAFbAAAAFUGeykUVLCP/AAADAAOLuOmAPB1P1QAAABMBnul0R/8AAAMABaxb0gHfUffAAAAAEwGe\n",
       "62pH/wAAAwAFrzTqAYiFmqAAAAAYQZrwSahBbJlMCGf//p4QAAADAAADAAFbAAAAFUGfDkUVLCP/\n",
       "AAADAAOLuOmAPB1P1QAAABMBny10R/8AAAMABaxb0gHfUffBAAAAEwGfL2pH/wAAAwAFrzTqAYiF\n",
       "mqAAAAAYQZs0SahBbJlMCGf//p4QAAADAAADAAFbAAAAFUGfUkUVLCP/AAADAAOLuOmAPB1P1QAA\n",
       "ABMBn3F0R/8AAAMABaxb0gHfUffAAAAAEwGfc2pH/wAAAwAFrzTqAYiFmqAAAAAYQZt4SahBbJlM\n",
       "CGf//p4QAAADAAADAAFbAAAAFUGflkUVLCP/AAADAAOLuOmAPB1P1QAAABMBn7V0R/8AAAMABaxb\n",
       "0gHfUffBAAAAEwGft2pH/wAAAwAFrzTqAYiFmqEAAAAYQZu8SahBbJlMCGf//p4QAAADAAADAAFb\n",
       "AAAAFUGf2kUVLCP/AAADAAOLuOmAPB1P1QAAABMBn/l0R/8AAAMABaxb0gHfUffAAAAAEwGf+2pH\n",
       "/wAAAwAFrzTqAYiFmqEAAAAYQZvgSahBbJlMCGf//p4QAAADAAADAAFbAAAAFUGeHkUVLCP/AAAD\n",
       "AAOLuOmAPB1P1QAAABMBnj10R/8AAAMABaxb0gHfUffAAAAAEwGeP2pH/wAAAwAFrzTqAYiFmqEA\n",
       "AAAYQZokSahBbJlMCGf//p4QAAADAAADAAFbAAAAFUGeQkUVLCP/AAADAAOLuOmAPB1P1QAAABMB\n",
       "nmF0R/8AAAMABaxb0gHfUffAAAAAEwGeY2pH/wAAAwAFrzTqAYiFmqEAAAAYQZpoSahBbJlMCGf/\n",
       "/p4QAAADAAADAAFbAAAAFUGehkUVLCP/AAADAAOLuOmAPB1P1QAAABMBnqV0R/8AAAMABaxb0gHf\n",
       "UffBAAAAEwGep2pH/wAAAwAFrzTqAYiFmqAAAAAYQZqsSahBbJlMCGf//p4QAAADAAADAAFbAAAA\n",
       "FUGeykUVLCP/AAADAAOLuOmAPB1P1QAAABMBnul0R/8AAAMABaxb0gHfUffAAAAAEwGe62pH/wAA\n",
       "AwAFrzTqAYiFmqAAAAAYQZrwSahBbJlMCGf//p4QAAADAAADAAFbAAAAFUGfDkUVLCP/AAADAAOL\n",
       "uOmAPB1P1QAAABMBny10R/8AAAMABaxb0gHfUffBAAAAEwGfL2pH/wAAAwAFrzTqAYiFmqAAAAAY\n",
       "QZs0SahBbJlMCGf//p4QAAADAAADAAFbAAAAFUGfUkUVLCP/AAADAAOLuOmAPB1P1QAAABMBn3F0\n",
       "R/8AAAMABaxb0gHfUffAAAAAEwGfc2pH/wAAAwAFrzTqAYiFmqAAAAAYQZt4SahBbJlMCGf//p4Q\n",
       "AAADAAADAAFbAAAAFUGflkUVLCP/AAADAAOLuOmAPB1P1QAAABMBn7V0R/8AAAMABaxb0gHfUffB\n",
       "AAAAEwGft2pH/wAAAwAFrzTqAYiFmqEAAAAYQZu8SahBbJlMCGf//p4QAAADAAADAAFbAAAAFUGf\n",
       "2kUVLCP/AAADAAOLuOmAPB1P1QAAABMBn/l0R/8AAAMABaxb0gHfUffAAAAAEwGf+2pH/wAAAwAF\n",
       "rzTqAYiFmqEAAAAYQZvgSahBbJlMCGf//p4QAAADAAADAAFbAAAAFUGeHkUVLCP/AAADAAOLuOmA\n",
       "PB1P1QAAABMBnj10R/8AAAMABaxb0gHfUffAAAAAEwGeP2pH/wAAAwAFrzTqAYiFmqEAAAAYQZok\n",
       "SahBbJlMCGf//p4QAAADAAADAAFbAAAAFUGeQkUVLCP/AAADAAOLuOmAPB1P1QAAABMBnmF0R/8A\n",
       "AAMABaxb0gHfUffAAAAAEwGeY2pH/wAAAwAFrzTqAYiFmqEAAAAYQZpoSahBbJlMCGf//p4QAAAD\n",
       "AAADAAFbAAAAFUGehkUVLCP/AAADAAOLuOmAPB1P1QAAABMBnqV0R/8AAAMABaxb0gHfUffBAAAA\n",
       "EwGep2pH/wAAAwAFrzTqAYiFmqAAAAAYQZqsSahBbJlMCGf//p4QAAADAAADAAFbAAAAFUGeykUV\n",
       "LCP/AAADAAOLuOmAPB1P1QAAABMBnul0R/8AAAMABaxb0gHfUffAAAAAEwGe62pH/wAAAwAFrzTq\n",
       "AYiFmqAAAAAYQZrwSahBbJlMCGf//p4QAAADAAADAAFbAAAAFUGfDkUVLCP/AAADAAOLuOmAPB1P\n",
       "1QAAABMBny10R/8AAAMABaxb0gHfUffBAAAAEwGfL2pH/wAAAwAFrzTqAYiFmqAAAAAYQZs0SahB\n",
       "bJlMCGf//p4QAAADAAADAAFbAAAAFUGfUkUVLCP/AAADAAOLuOmAPB1P1QAAABMBn3F0R/8AAAMA\n",
       "Baxb0gHfUffAAAAAEwGfc2pH/wAAAwAFrzTqAYiFmqAAAAAYQZt4SahBbJlMCF///oywAAADAAAD\n",
       "AAFfAAAAFUGflkUVLCP/AAADAAOLuOmAPB1P1QAAABMBn7V0R/8AAAMABaxb0gHfUffBAAAAEwGf\n",
       "t2pH/wAAAwAFrzTqAYiFmqEAAAAYQZu8SahBbJlMCF///oywAAADAAADAAFfAAAAFUGf2kUVLCP/\n",
       "AAADAAOLuOmAPB1P1QAAABMBn/l0R/8AAAMABaxb0gHfUffAAAAAEwGf+2pH/wAAAwAFrzTqAYiF\n",
       "mqEAAAAYQZvgSahBbJlMCF///oywAAADAAADAAFfAAAAFUGeHkUVLCP/AAADAAOLuOmAPB1P1QAA\n",
       "ABMBnj10R/8AAAMABaxb0gHfUffAAAAAEwGeP2pH/wAAAwAFrzTqAYiFmqEAAAAYQZokSahBbJlM\n",
       "CFf//jhAAAADAAADAAVMAAAAFUGeQkUVLCP/AAADAAOLuOmAPB1P1QAAABMBnmF0R/8AAAMABaxb\n",
       "0gHfUffAAAAAEwGeY2pH/wAAAwAFrzTqAYiFmqEAAAAXQZpoSahBbJlMCP/8hAAAAwAAAwAAUEEA\n",
       "AAAVQZ6GRRUsI/8AAAMAA4u46YA8HU/VAAAAEwGepXRH/wAAAwAFrFvSAd9R98EAAAATAZ6nakf/\n",
       "AAADAAWvNOoBiIWaoAAACB1tb292AAAAbG12aGQAAAAAAAAAAAAAAAAAAAPoAAAINAABAAABAAAA\n",
       "AAAAAAAAAAAAAQAAAAAAAAAAAAAAAAAAAAEAAAAAAAAAAAAAAAAAAEAAAAAAAAAAAAAAAAAAAAAA\n",
       "AAAAAAAAAAAAAAAAAAACAAAHSHRyYWsAAABcdGtoZAAAAAMAAAAAAAAAAAAAAAEAAAAAAAAINAAA\n",
       "AAAAAAAAAAAAAAAAAAAAAQAAAAAAAAAAAAAAAAAAAAEAAAAAAAAAAAAAAAAAAEAAAAACgAAAAeAA\n",
       "AAAAACRlZHRzAAAAHGVsc3QAAAAAAAAAAQAACDQAAAIAAAEAAAAABsBtZGlhAAAAIG1kaGQAAAAA\n",
       "AAAAAAAAAAAAADIAAABpAFXEAAAAAAAtaGRscgAAAAAAAAAAdmlkZQAAAAAAAAAAAAAAAFZpZGVv\n",
       "SGFuZGxlcgAAAAZrbWluZgAAABR2bWhkAAAAAQAAAAAAAAAAAAAAJGRpbmYAAAAcZHJlZgAAAAAA\n",
       "AAABAAAADHVybCAAAAABAAAGK3N0YmwAAAC3c3RzZAAAAAAAAAABAAAAp2F2YzEAAAAAAAAAAQAA\n",
       "AAAAAAAAAAAAAAAAAAACgAHgAEgAAABIAAAAAAAAAAEAAAAAAAAAAAAAAAAAAAAAAAAAAAAAAAAA\n",
       "AAAAAAAAAAAY//8AAAA1YXZjQwFkAB//4QAYZ2QAH6zZQKA9oQAAAwABAAADAGQPGDGWAQAGaOvj\n",
       "yyLA/fj4AAAAABx1dWlka2hA8l8kT8W6OaUbzwMj8wAAAAAAAAAYc3R0cwAAAAAAAAABAAAAaQAA\n",
       "AQAAAAAUc3RzcwAAAAAAAAABAAAAAQAAA1hjdHRzAAAAAAAAAGkAAAABAAACAAAAAAEAAAUAAAAA\n",
       "AQAAAgAAAAABAAAAAAAAAAEAAAEAAAAAAQAABQAAAAABAAACAAAAAAEAAAAAAAAAAQAAAQAAAAAB\n",
       "AAAFAAAAAAEAAAIAAAAAAQAAAAAAAAABAAABAAAAAAEAAAUAAAAAAQAAAgAAAAABAAAAAAAAAAEA\n",
       "AAEAAAAAAQAABQAAAAABAAACAAAAAAEAAAAAAAAAAQAAAQAAAAABAAAFAAAAAAEAAAIAAAAAAQAA\n",
       "AAAAAAABAAABAAAAAAEAAAUAAAAAAQAAAgAAAAABAAAAAAAAAAEAAAEAAAAAAQAABQAAAAABAAAC\n",
       "AAAAAAEAAAAAAAAAAQAAAQAAAAABAAAFAAAAAAEAAAIAAAAAAQAAAAAAAAABAAABAAAAAAEAAAUA\n",
       "AAAAAQAAAgAAAAABAAAAAAAAAAEAAAEAAAAAAQAABQAAAAABAAACAAAAAAEAAAAAAAAAAQAAAQAA\n",
       "AAABAAAFAAAAAAEAAAIAAAAAAQAAAAAAAAABAAABAAAAAAEAAAUAAAAAAQAAAgAAAAABAAAAAAAA\n",
       "AAEAAAEAAAAAAQAABQAAAAABAAACAAAAAAEAAAAAAAAAAQAAAQAAAAABAAAFAAAAAAEAAAIAAAAA\n",
       "AQAAAAAAAAABAAABAAAAAAEAAAUAAAAAAQAAAgAAAAABAAAAAAAAAAEAAAEAAAAAAQAABQAAAAAB\n",
       "AAACAAAAAAEAAAAAAAAAAQAAAQAAAAABAAAFAAAAAAEAAAIAAAAAAQAAAAAAAAABAAABAAAAAAEA\n",
       "AAUAAAAAAQAAAgAAAAABAAAAAAAAAAEAAAEAAAAAAQAABQAAAAABAAACAAAAAAEAAAAAAAAAAQAA\n",
       "AQAAAAABAAAFAAAAAAEAAAIAAAAAAQAAAAAAAAABAAABAAAAAAEAAAUAAAAAAQAAAgAAAAABAAAA\n",
       "AAAAAAEAAAEAAAAAAQAABQAAAAABAAACAAAAAAEAAAAAAAAAAQAAAQAAAAABAAAFAAAAAAEAAAIA\n",
       "AAAAAQAAAAAAAAABAAABAAAAAAEAAAUAAAAAAQAAAgAAAAABAAAAAAAAAAEAAAEAAAAAAQAABQAA\n",
       "AAABAAACAAAAAAEAAAAAAAAAAQAAAQAAAAAcc3RzYwAAAAAAAAABAAAAAQAAAGkAAAABAAABuHN0\n",
       "c3oAAAAAAAAAAAAAAGkAAAtqAAAAQwAAAB4AAAAYAAAAGQAAACAAAAAcAAAAGQAAABcAAAAcAAAA\n",
       "GQAAABcAAAAXAAAAHAAAABkAAAAXAAAAFwAAABwAAAAZAAAAFwAAABcAAAAcAAAAGQAAABcAAAAX\n",
       "AAAAHAAAABkAAAAXAAAAFwAAABwAAAAZAAAAFwAAABcAAAAcAAAAGQAAABcAAAAXAAAAHAAAABkA\n",
       "AAAXAAAAFwAAABwAAAAZAAAAFwAAABcAAAAcAAAAGQAAABcAAAAXAAAAHAAAABkAAAAXAAAAFwAA\n",
       "ABwAAAAZAAAAFwAAABcAAAAcAAAAGQAAABcAAAAXAAAAHAAAABkAAAAXAAAAFwAAABwAAAAZAAAA\n",
       "FwAAABcAAAAcAAAAGQAAABcAAAAXAAAAHAAAABkAAAAXAAAAFwAAABwAAAAZAAAAFwAAABcAAAAc\n",
       "AAAAGQAAABcAAAAXAAAAHAAAABkAAAAXAAAAFwAAABwAAAAZAAAAFwAAABcAAAAcAAAAGQAAABcA\n",
       "AAAXAAAAHAAAABkAAAAXAAAAFwAAABsAAAAZAAAAFwAAABcAAAAUc3RjbwAAAAAAAAABAAAAMAAA\n",
       "AGF1ZHRhAAAAWW1ldGEAAAAAAAAAIWhkbHIAAAAAAAAAAG1kaXJhcHBsAAAAAAAAAAAAAAAALGls\n",
       "c3QAAAAkqXRvbwAAABxkYXRhAAAAAQAAAABMYXZmNjEuNy4xMDA=\n",
       "\">\n",
       "  Your browser does not support the video tag.\n",
       "</video>"
      ],
      "text/plain": [
       "<IPython.core.display.HTML object>"
      ]
     },
     "execution_count": 10,
     "metadata": {},
     "output_type": "execute_result"
    },
    {
     "data": {
      "image/png": "[encoded data removed]",
      "text/plain": [
       "<Figure size 640x480 with 1 Axes>"
      ]
     },
     "metadata": {},
     "output_type": "display_data"
    }
   ],
   "source": [
    "fig = plt.figure()\n",
    "ax = plt.axes(xlim=(0, 600), ylim=(0, 600))\n",
    "ax.set_aspect(\"equal\")\n",
    "\n",
    "space = setup_space()\n",
    "setup_balls(space)\n",
    "\n",
    "o = pymunk.matplotlib_util.DrawOptions(ax)\n",
    "\n",
    "\n",
    "list(space.shapes)[1].body.apply_impulse_at_local_point((-12000,0))\n",
    "    \n",
    "def init():\n",
    "    space.debug_draw(o)\n",
    "    return []\n",
    "\n",
    "def animate(dt):\n",
    "    #we run the animation with half speed intentionally to make it a little nicer to look at\n",
    "    for x in range(10):\n",
    "        space.step(1/50/10/2)\n",
    "    ax.clear()\n",
    "    space.debug_draw(o)\n",
    "    return []\n",
    "\n",
    "frames = 105\n",
    "anim = animation.FuncAnimation(fig, animate, init_func=init,\n",
    "                               frames=frames, interval=20, blit=False)\n",
    "\n",
    "HTML(anim.to_html5_video())"
   ]
  },
  {
   "cell_type": "code",
   "execution_count": null,
   "metadata": {
    "collapsed": true
   },
   "outputs": [],
   "source": []
  }
 ],
 "metadata": {
  "kernelspec": {
   "display_name": "Python-OrbitLab",
   "language": "python",
   "name": "python3"
  },
  "language_info": {
   "codemirror_mode": {
    "name": "ipython",
    "version": 3
   },
   "file_extension": ".py",
   "mimetype": "text/x-python",
   "name": "python",
   "nbconvert_exporter": "python",
   "pygments_lexer": "ipython3",
   "version": "3.13.3"
  }
 },
 "nbformat": 4,
 "nbformat_minor": 0
}
